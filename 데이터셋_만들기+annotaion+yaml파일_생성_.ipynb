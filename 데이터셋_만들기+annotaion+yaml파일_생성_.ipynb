{
  "cells": [
    {
      "cell_type": "markdown",
      "metadata": {
        "id": "view-in-github",
        "colab_type": "text"
      },
      "source": [
        "<a href=\"https://colab.research.google.com/github/kwonkw/Eye-contact/blob/main/%EB%8D%B0%EC%9D%B4%ED%84%B0%EC%85%8B_%EB%A7%8C%EB%93%A4%EA%B8%B0_%2B_annotaion_%2B_yaml%ED%8C%8C%EC%9D%BC_%EC%83%9D%EC%84%B1_.ipynb\" target=\"_parent\"><img src=\"https://colab.research.google.com/assets/colab-badge.svg\" alt=\"Open In Colab\"/></a>"
      ]
    },
    {
      "cell_type": "markdown",
      "metadata": {
        "id": "X-gTXUas8vtg"
      },
      "source": [
        "![image.png](data:image/png;base64,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)"
      ]
    },
    {
      "cell_type": "markdown",
      "source": [
        "기본 설정"
      ],
      "metadata": {
        "id": "wIct3dCaNM-M"
      }
    },
    {
      "cell_type": "code",
      "execution_count": null,
      "metadata": {
        "id": "4moC2eK5Zbgk"
      },
      "outputs": [],
      "source": [
        "import xml.etree.ElementTree as ET\n",
        "import os\n",
        "import shutil\n",
        "import glob"
      ]
    },
    {
      "cell_type": "markdown",
      "source": [
        "data annotation"
      ],
      "metadata": {
        "id": "p3qIebRhNOmf"
      }
    },
    {
      "cell_type": "code",
      "execution_count": null,
      "metadata": {
        "id": "PjxTivL_t1XX"
      },
      "outputs": [],
      "source": [
        "label_list = {'bollard': 0, 'pole': 1, 'tree_trunk': 2}\n",
        "path = 'C:/Users/Master/yolov5/data/tmpdataset/labels/'\n",
        "\n",
        "entries = os.listdir('C:/Users/Master/yolov5/data/tmpdataset/images/인도보행 영상/바운딩박스/')\n",
        "for entry in entries:\n",
        "    if '.' not in entry:\n",
        "        se_entries = os.listdir('C:/Users/Master/yolov5/data/tmpdataset/images/인도보행 영상/바운딩박스/' + entry)\n",
        "        for se in se_entries:\n",
        "            if '.xml' in se:\n",
        "                tree = ET.parse('C:/Users/Master/yolov5/data/tmpdataset/images/인도보행 영상/바운딩박스/' + entry + '/' + se)\n",
        "                root = tree.getroot()\n",
        "                count = 0\n",
        "                for annotations in root:\n",
        "                    if annotations.attrib.get('name') is None:\n",
        "                        pass\n",
        "                    else:\n",
        "                        name = str(annotations.attrib.get('name')).split('.')[0]\n",
        "                        height = int(annotations.attrib.get('height'))\n",
        "                        width = int(annotations.attrib.get('width'))\n",
        "                        filename = path + name\n",
        "                        count = 0\n",
        "                        with open(filename + '.txt', 'w') as f:\n",
        "                            for image in annotations:\n",
        "                                label = image.attrib.get('label')\n",
        "                                if label in label_list:\n",
        "                                    count += 1\n",
        "                                    x1 = float(image.attrib.get('xtl'))\n",
        "                                    y1 = float(image.attrib.get('ytl'))\n",
        "                                    x2 = float(image.attrib.get('xbr'))\n",
        "                                    y2 = float(image.attrib.get('ybr'))\n",
        "                                    xcenter = abs((x1 + x2) / 2 / width)\n",
        "                                    ycenter = abs((y1 + y2) / 2 / height)\n",
        "                                    Height = abs((x2 - x1) / height)\n",
        "                                    Width = abs((y1 - y2) / width)\n",
        "\n",
        "                                    f.write('{} {} {} {} {} \\n'.format(label_list[image.attrib.get('label')],\n",
        "                                                                    xcenter,\n",
        "                                                                    ycenter,\n",
        "                                                                    Height,\n",
        "                                                                    Width ))\n",
        "                            f.close()\n",
        "                        if count ==0:\n",
        "                            os.remove(filename + '.txt')\n"
      ]
    },
    {
      "cell_type": "code",
      "execution_count": null,
      "metadata": {
        "id": "6TnJqNpYSmmP"
      },
      "outputs": [],
      "source": [
        "path = 'C:/Users/Master/yolov5/data/tmpdataset/image/'\n",
        "\n",
        "entries = os.listdir('C:/Users/Master/yolov5/data/tmpdataset/images/인도보행 영상/바운딩박스/')\n",
        "count=0\n",
        "for entry in entries:\n",
        "    if '.' not in entry :\n",
        "        now_entries = os.listdir('C:/Users/Master/yolov5/data/tmpdataset/images/인도보행 영상/바운딩박스/'+entry)\n",
        "        for now in now_entries:\n",
        "            if '.jpg' in now or '.png' in now :\n",
        "                source = f'C:/Users/Master/yolov5/data/tmpdataset/images/인도보행 영상/바운딩박스/{entry}/{now}'\n",
        "                destination = path + now\n",
        "                shutil.move(source, destination)\n",
        "                count+=1\n",
        "                print(f'Done{count}')\n"
      ]
    },
    {
      "cell_type": "code",
      "execution_count": null,
      "metadata": {
        "colab": {
          "base_uri": "https://localhost:8080/"
        },
        "id": "EyNQpooE-EJ-",
        "outputId": "4ea06646-a2f5-406e-a7d9-cdb8be89a547"
      },
      "outputs": [
        {
          "data": {
            "text/plain": [
              "64855"
            ]
          },
          "execution_count": 9,
          "metadata": {},
          "output_type": "execute_result"
        }
      ],
      "source": [
        "#train,val set 만들기\n",
        "images = glob.glob('C:/Users/Master/yolov5/data/tmpdataset/image/*')\n",
        "len(images)"
      ]
    },
    {
      "cell_type": "code",
      "execution_count": null,
      "metadata": {
        "colab": {
          "base_uri": "https://localhost:8080/"
        },
        "id": "vwT9Yk25_Cw1",
        "outputId": "706cd55d-e2e3-412a-ea03-4380e37fa215",
        "scrolled": true
      },
      "outputs": [
        {
          "data": {
            "text/plain": [
              "25805"
            ]
          },
          "execution_count": 10,
          "metadata": {},
          "output_type": "execute_result"
        }
      ],
      "source": [
        "labels = glob.glob('C:/Users/Master/yolov5/data/tmpdataset/labels/*')\n",
        "len(labels)"
      ]
    },
    {
      "cell_type": "code",
      "execution_count": null,
      "metadata": {
        "id": "__76cJ27cYmg",
        "outputId": "cf6177d8-d7d6-4f30-9b4b-c3ec6ba627e0"
      },
      "outputs": [
        {
          "data": {
            "text/plain": [
              "'MP_KSC_002401'"
            ]
          },
          "execution_count": 11,
          "metadata": {},
          "output_type": "execute_result"
        }
      ],
      "source": [
        "images[0].split('/')[-1].split(\"\\\\\")[-1].split('.')[0]"
      ]
    },
    {
      "cell_type": "code",
      "execution_count": null,
      "metadata": {
        "id": "s3j9yUdS_Czr",
        "scrolled": true
      },
      "outputs": [],
      "source": [
        "# images, labels 개수 맞추기\n",
        "images = glob.glob('C:/Users/Master/yolov5/data/tmpdataset/image/*')\n",
        "len(images)\n",
        "labels = glob.glob('C:/Users/Master/yolov5/data/tmpdataset/labels/*')\n",
        "len(labels)\n",
        "\n",
        "for i in range(len(labels)):\n",
        "  labels[i]=labels[i].split('/')[-1].split(\"\\\\\")[-1].split('.')[0]\n",
        "\n",
        "for j in range(len(images)):\n",
        "  if images[j].split('/')[-1].split(\"\\\\\")[-1].split('.')[0] in labels:\n",
        "    shutil.move(images[j], 'C:/Users/Master/yolov5/data/tmpdataset/fullimage/'+ images[j].split('/')[-1].split(\"\\\\\")[-1])\n"
      ]
    },
    {
      "cell_type": "markdown",
      "source": [
        "train, validation dataset 나누기"
      ],
      "metadata": {
        "id": "3OzvwWHWMXC2"
      }
    },
    {
      "cell_type": "code",
      "execution_count": null,
      "metadata": {
        "id": "Xiqx1-IpcYmg",
        "outputId": "2b318164-74bc-4cf0-a1ea-2f3ab4a9799f",
        "scrolled": true
      },
      "outputs": [
        {
          "data": {
            "text/plain": [
              "29522"
            ]
          },
          "execution_count": 14,
          "metadata": {},
          "output_type": "execute_result"
        }
      ],
      "source": [
        "full = glob.glob('C:/Users/Master/yolov5/data/tmpdataset/fullimage/*')\n",
        "len(full)"
      ]
    },
    {
      "cell_type": "code",
      "execution_count": null,
      "metadata": {
        "colab": {
          "base_uri": "https://localhost:8080/"
        },
        "id": "reweVfFpB0Dd",
        "outputId": "ca5f2453-ba05-4be6-c337-a815a2dd0dc2"
      },
      "outputs": [
        {
          "data": {
            "text/plain": [
              "29522"
            ]
          },
          "execution_count": 16,
          "metadata": {},
          "output_type": "execute_result"
        }
      ],
      "source": [
        "labels = glob.glob('C:/Users/Master/yolov5/data/tmpdataset/labels/*')\n",
        "len(labels)"
      ]
    },
    {
      "cell_type": "code",
      "execution_count": null,
      "metadata": {
        "colab": {
          "base_uri": "https://localhost:8080/"
        },
        "id": "qVft8RhqB8PX",
        "outputId": "15163980-5ab1-4014-bfe2-22e602710512",
        "scrolled": true
      },
      "outputs": [
        {
          "data": {
            "text/plain": [
              "5904"
            ]
          },
          "execution_count": 19,
          "metadata": {},
          "output_type": "execute_result"
        }
      ],
      "source": [
        "num=int(len(labels)*0.2)\n",
        "num"
      ]
    },
    {
      "cell_type": "code",
      "execution_count": null,
      "metadata": {
        "id": "CW2SnNUb_QRr"
      },
      "outputs": [],
      "source": [
        "# validation\n",
        "import random\n",
        "random.seed(2023)\n",
        "\n",
        "\n",
        "for f in random.sample(full,num):\n",
        "  shutil.move(f,'C:/Users/Master/yolov5/data/dataset/images/val')\n",
        "for f in random.sample(labels,num):\n",
        " shutil.move(f,'C:/Users/Master/yolov5/data/dataset/labels/val')\n"
      ]
    },
    {
      "cell_type": "code",
      "execution_count": null,
      "metadata": {
        "id": "wWyzVzgP_QUs"
      },
      "outputs": [],
      "source": [
        "images = glob.glob('C:/Users/Master/yolov5/data/tmpdataset/fullimage/*')\n",
        "labels = glob.glob('C:/Users/Master/yolov5/data/tmpdataset/labels/*')"
      ]
    },
    {
      "cell_type": "code",
      "execution_count": null,
      "metadata": {
        "id": "hQJAA0_c_QWk",
        "scrolled": true
      },
      "outputs": [],
      "source": [
        "#train\n",
        "for f in images:\n",
        "    shutil.move(f,'C:/Users/Master/yolov5/data/dataset/images/train')\n",
        "for f in labels:\n",
        "    shutil.move(f,'C:/Users/Master/yolov5/data/dataset/labels/train')\n"
      ]
    },
    {
      "cell_type": "markdown",
      "source": [
        "yaml 파일 생성"
      ],
      "metadata": {
        "id": "575CrshBNpuY"
      }
    },
    {
      "cell_type": "code",
      "execution_count": null,
      "metadata": {
        "id": "4fqAHod4cYmh"
      },
      "outputs": [],
      "source": [
        "with open('C:/Users/Master/yolov5/data/dataset/eye_contact.yaml', 'w') as f:\n",
        "    yaml_content = \"\"\"\\\n",
        "path: C:/Users/Master/yolov5/data/dataset/  # dataset root dir\n",
        "train: images/train\n",
        "val: images/train\n",
        "\n",
        "# Classes\n",
        "nc: 3  # number of classes\n",
        "names: ['bollard', 'pole', 'tree_trunk']  # class names\n",
        "\"\"\"\n",
        "    f.write(yaml_content)\n"
      ]
    }
  ],
  "metadata": {
    "accelerator": "GPU",
    "colab": {
      "gpuType": "V100",
      "provenance": [],
      "include_colab_link": true
    },
    "kernelspec": {
      "display_name": "Python 3 (ipykernel)",
      "language": "python",
      "name": "python3"
    },
    "language_info": {
      "codemirror_mode": {
        "name": "ipython",
        "version": 3
      },
      "file_extension": ".py",
      "mimetype": "text/x-python",
      "name": "python",
      "nbconvert_exporter": "python",
      "pygments_lexer": "ipython3",
      "version": "3.10.9"
    }
  },
  "nbformat": 4,
  "nbformat_minor": 0
}
